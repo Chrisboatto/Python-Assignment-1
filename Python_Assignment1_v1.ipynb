{
 "cells": [
  {
   "cell_type": "markdown",
   "metadata": {
    "id": "kJ6ssXaGJfGN"
   },
   "source": [
    "## CIND830 - Python Programming for Data Science  \n",
    "### Assignment 1 (10% of the final grade) \n",
    "### Due on February 8, 2021 11:59 PM  "
   ]
  },
  {
   "cell_type": "markdown",
   "metadata": {
    "id": "UWjXw7DsJfGP"
   },
   "source": [
    "*****\n",
    "This is a Jupyter Notebook document that extends a simple formatting syntax for authoring HTML and PDF.\n",
    "Review [this](https://jupyter-notebook.readthedocs.io/en/stable/notebook.html) website for more details on using Jupyter Notebook.\n",
    "\n",
    "Use the JupyterHub server on the Google Cloud Platform, provided by your designated instructor, for this assignment. \n",
    "Ensure using **Python 3.7.6** release then complete the assignment by inserting your Python code wherever seeing the string \"#INSERT YOUR ANSWER HERE.\"\n",
    "\n",
    "When you click the `File` button, from the top navigation bar, then select `Export Notebook As ...`,\n",
    "a document (PDF or HTML format) will be generated that includes\n",
    " both the assignment content and the output of any embedded Python code chunks.\n",
    "\n",
    "Using [these](https://www.ryerson.ca/courses/students/tutorials/assignments/) guidelines,\n",
    "submit **both** the IPYNB and the exported file (PDF or HTML).\n",
    "Failing to submit both files will be subject to mark deduction."
   ]
  },
  {
   "cell_type": "markdown",
   "metadata": {
    "id": "RDm-t4u8JfGP"
   },
   "source": [
    "### Question 1 **[60 pts]**:\n",
    "\n",
    "\n",
    "\n",
    "A multi-valued function has been defined as follows\n",
    "\n",
    "$$\n",
    "f(x) = \\left\\{\n",
    "    \\begin{array}\\\\\n",
    "       ({\\frac{x^2}{|x|+2}})^2 & \\mbox{if} \\ x < 5 \\\\\n",
    "        {\\frac{x^2}{|x|+2}} & \\mbox{if} \\ x = 5 \\\\\n",
    "       \\sqrt{\\frac{x^2}{|x|+2} } & \\mbox{if} \\ x > 5 \n",
    "    \\end{array}\n",
    "\\right.\n",
    "$$"
   ]
  },
  {
   "cell_type": "markdown",
   "metadata": {
    "id": "vARdfJN_JfGQ"
   },
   "source": [
    "**a)** **[10 pts]** Write a program to ask the user to enter a floating-point real number, check whether the number is greater, equal or less than 5, then print the output according to the definition of the multi-valued function.\n",
    "\n",
    "For example, if the user enters `x = -57.8`, then the output should be:<br>\n",
    "`The value of f(x) is 3121.1093571660267`\n",
    "\n",
    "Hint: Use the `math` module as it provides access to some of the essential mathematical functions."
   ]
  },
  {
   "cell_type": "code",
   "execution_count": 5,
   "metadata": {
    "colab": {
     "base_uri": "https://localhost:8080/"
    },
    "id": "CldaDRWdJfGQ",
    "outputId": "402bc26e-0b7e-4067-8e31-765858adedc9"
   },
   "outputs": [
    {
     "name": "stdin",
     "output_type": "stream",
     "text": [
      "Enter Real Number:  -57.8\n"
     ]
    }
   ],
   "source": [
    "import math as math # Why rename the imported package to the exact same name?\n",
    "\n",
    "x = float(input('Enter Real Number: ')) # Added colon and space\n",
    "result = None # Better to assign None to this rather than 0 to indicate there's no value\n",
    "\n",
    "if x < 5:\n",
    "    result = (x**2/(abs(x)+2))**2 # Check brackets\n",
    "elif x == 5: # Use elif when chaining conditional statements\n",
    "    result = x**2/(abs(x)+2) # Need brackets because division is evaluated before addition\n",
    "elif x > 5:\n",
    "#     x_sum = (x**2/abs(x)+2)**1/2\n",
    "    result = (x**2/(abs(x)+2))**1/2 # Compare yours to mine, brackets are important around denominator!\n",
    "\n",
    "    print('\\nThe value of f(x) is', result)"
   ]
  },
  {
   "cell_type": "markdown",
   "metadata": {
    "id": "ZRoY5MRdJfGQ"
   },
   "source": [
    "**b)**  **[10 pts]** Round the output of Q1.a to the nearest ineteger, convert that integer to a list of digits, then print the result.  \n",
    "\n",
    "For example, if the user enters `x = -57.8`, then the output should be: <br>\n",
    "`The value of f(x) is  3121.1093571660267`<br>\n",
    "`The list of digits is  [3, 1, 2, 1] `"
   ]
  },
  {
   "cell_type": "code",
   "execution_count": 6,
   "metadata": {
    "colab": {
     "base_uri": "https://localhost:8080/"
    },
    "id": "b725VzBSJfGR",
    "outputId": "8934e90c-77f2-49cd-ec19-2a1865657f11"
   },
   "outputs": [
    {
     "name": "stdout",
     "output_type": "stream",
     "text": [
      "The value of f(x) is 3121\n",
      "\n",
      " [3, 1, 2, 1]\n"
     ]
    }
   ],
   "source": [
    "result_rounded = round(result) # Check optional second argument; default is to round to integer, but you can specify the number of digits\n",
    "\n",
    "print('The value of f(x) is', result_rounded)\n",
    "\n",
    "digit_list = [int(x) for x in str(result_rounded)]\n",
    "\n",
    "print('\\n', digit_list)\n",
    "\n",
    "\n",
    "# x = float(input(\"Enter Real Number\"))\n",
    "# x_sum = 0\n",
    "# number_list = []\n",
    "# if x < 5:\n",
    "#     x_sum = round((x**2/abs(x)+2)**2)\n",
    "# x_sum = str(x_sum)\n",
    "# for i in x_sum:\n",
    "#     number_list.append(i)    \n",
    "# if x == 5:\n",
    "#     x_sum = round(x**2/abs(x)+2)\n",
    "# x_sum = str(x_sum)\n",
    "# for i in x_sum:\n",
    "#     number_list.append(i)\n",
    "# if x > 5:\n",
    "#     x_sum = round((x**2/abs(x)+2)**1/2)\n",
    "# x_sum = str(x_sum)\n",
    "# for i in x_sum:\n",
    "#     number_list.append(i)\n",
    "# print(\"The value of x is:\", x_sum)\n",
    "# print(\"The list of digits is:\", number_list)"
   ]
  },
  {
   "cell_type": "markdown",
   "metadata": {
    "id": "__ArmJayJfGR"
   },
   "source": [
    "**c)**  **[10 pts]** Find and print the `Median`, `Average` and `Mode` of the generated list in Q1.b.  For example, having `list = [6, 7, 7, 4]`, the result should be `Median = 6.5; Average = 6; Mode = 7`.  Ensure notifying the user if there is no unique mode found, as the `Mode` in this exercise returns only the single most common data item in the list.\n",
    "\n",
    "For example, if the user enters `x = -57.8`, then the output should be: <br>\n",
    "`The value of f(x) is  3121.1093571660267`<br>\n",
    "`The list of digits is  [3, 1, 2, 1]` <br>\n",
    "`Median is 1.5 ; Average is 1.75 ; Mode =  1`\n",
    "\n",
    "However, if the user enters `x = -57.2`, then the output should be: <br>\n",
    "`The value of f(x) is  3054.5040248356463` <br>\n",
    "`The list of digits is  [3, 0, 5, 4]` <br>\n",
    "`Median is 3.5 ; Average is 3 ; No unique mode found`\n",
    "\n",
    "Hint: Use the `statistics` module as it provides functions to calculate mathematical statistics of numeric data."
   ]
  },
  {
   "cell_type": "code",
   "execution_count": 7,
   "metadata": {
    "colab": {
     "base_uri": "https://localhost:8080/"
    },
    "id": "UaxzqgFIJfGS",
    "outputId": "cb39d04d-3489-4016-c11c-0e5185b38545"
   },
   "outputs": [
    {
     "name": "stdout",
     "output_type": "stream",
     "text": [
      "Median = 1.5; Mean = 1.75; Mode = 1\n"
     ]
    }
   ],
   "source": [
    "import statistics as stats\n",
    "\n",
    "median = stats.median(digit_list)\n",
    "mean = stats.mean(digit_list)\n",
    "mode = stats.mode(digit_list)\n",
    "\n",
    "for x in digit_list:\n",
    "    if digit_list.count(x) == digit_list.count(median) and x != median: # Check if any other list item occurs the same number of times\n",
    "        median = 'No unique mode'\n",
    "        \n",
    "print('Median = {0}; Mean = {1}; Mode = {2}'.format(median, mean, mode)) # String formatting\n",
    "\n",
    "# x = float(input(\"Enter Real Number\"))\n",
    "# x_sum = 0\n",
    "# number_list = []\n",
    "# Num_Median = 0\n",
    "# Num_Mode = 0\n",
    "# Num_Avg = 0\n",
    "# if x < 5:\n",
    "#     x_sum = round((x**2/abs(x)+2)**2)\n",
    "#     x_sum = str(x_sum)\n",
    "#     for i in x_sum:\n",
    "#         number_list.append(i)\n",
    "#     x_sum = int(x_sum)\n",
    "#     Num_Median = stats.median(x_sum)\n",
    "#     Num_Mode = stats.mode(x_sum)\n",
    "#     Num_Avg = stats.mean(x_sum)\n",
    "# if x == 5:\n",
    "#     x_sum = round(x**2/abs(x)+2)\n",
    "#     x_sum = str(x_sum)\n",
    "#     for i in x_sum:\n",
    "#         number_list.append(i)\n",
    "#     x_sum = int(x_sum)\n",
    "#     Num_Median = stats.median(x_sum)\n",
    "#     Num_Mode = stats.mode(x_sum)\n",
    "#     Num_Avg = stats.mean(x_sum)\n",
    "# if x > 5:\n",
    "#     x_sum = round((x**2/abs(x)+2)**1/2)\n",
    "#     x_sum = str(x_sum)\n",
    "#     for i in x_sum:\n",
    "#         number_list.append(i)\n",
    "#     x_sum = int(x_sum)\n",
    "#     Num_Median = stats.median(x_sum)\n",
    "#     Num_Mode = stats.mode(x_sum)\n",
    "#     Num_Avg = stats.mean(x_sum)\n",
    "# print(\"The value of x is:\", x_sum)\n",
    "# print(\"The list of digits is:\", number_list)\n",
    "# print(\"Median is:\", Num_Median, \"Average is:\", Num_Avg, \"Mode is:\", Num_Mode)"
   ]
  },
  {
   "cell_type": "markdown",
   "metadata": {
    "id": "LswUhIjdJfGS"
   },
   "source": [
    "**d)**  **[10 pts]** Find and print the sum of squares of all the numbers of the list generated in Q1.b.  \n",
    "\n",
    "For example, if the user enters `x = -57.8`, then the output should be: <br>\n",
    "`The value of f(x) is  3121.1093571660267`<br>\n",
    "`The list of digits is  [3, 1, 2, 1]` <br>\n",
    "`The sum of squares is 15`  "
   ]
  },
  {
   "cell_type": "code",
   "execution_count": 8,
   "metadata": {
    "colab": {
     "base_uri": "https://localhost:8080/"
    },
    "id": "ICOioDlKJfGS",
    "outputId": "514c6ef3-26ef-4125-83dc-de84efe2be17"
   },
   "outputs": [
    {
     "name": "stdout",
     "output_type": "stream",
     "text": [
      "The sum of squares is 15\n"
     ]
    }
   ],
   "source": [
    "print('The sum of squares is', sum(map(lambda x: x*x, digit_list))) # One line hehe ;)\n",
    "\n",
    "# x = float(input(\"Enter Real Number\"))\n",
    "# x_sum = 0\n",
    "# number_list = []\n",
    "# if x < 5:\n",
    "#     x_sum = round((x**2/abs(x)+2)**2)\n",
    "# print(\"The value of x is:\", x_sum)\n",
    "# x_sum = str(x_sum)\n",
    "# for i in x_sum:\n",
    "#     number_list.append()\n",
    "# print(\"The list of digits is:\", number_list)\n",
    "# def squaresum(number_list):\n",
    "#     sm = 0\n",
    "#     for i in number_list:\n",
    "#         sm = sm + (i * i)\n",
    "#     return(sm)\n",
    "# print(\"The sum of squares is:\", sm)\n",
    "# if x == 5:\n",
    "#     x_sum = round(x**2/abs(x)+2)\n",
    "# print(\"The value of x is:\", x_sum)\n",
    "# x_sum = str(x_sum)\n",
    "# for i in x_sum:\n",
    "#     number_list.append()\n",
    "# print(\"The list of digits is:\", number_list)\n",
    "# def squaresum(number_list):\n",
    "#     sm = 0\n",
    "#     for i in number_list:\n",
    "#         sm = sm + (i * i)\n",
    "#     return(sm)\n",
    "# print(\"The sum of squares is:\", sm)\n",
    "    \n",
    "# if x > 5:\n",
    "#     x_sum = round((x**2/abs(x)+2)**1/2)\n",
    "# print(\"The value of x is:\", x_sum)\n",
    "# x_sum = str(x_sum)\n",
    "# for i in x_sum:\n",
    "#     number_list.append()\n",
    "# print(\"The list of digits is:\", number_list)\n",
    "# def squaresum(number_list):\n",
    "#     sm = 0\n",
    "#     for i in number_list:\n",
    "#         sm = sm + (i * i)\n",
    "#     return(sm)\n",
    "# print(\"The sum of squares is:\", sm)"
   ]
  },
  {
   "cell_type": "markdown",
   "metadata": {
    "id": "I-eeT2BtJfGT"
   },
   "source": [
    "**e)**  **[10 pts]** Find and print the least common multiple of the numbers in the list generated in Q1.b.  \n",
    "\n",
    "For example, if the user enters `x = -57.8`, then the output should be: <br>\n",
    "`The value of f(x) is  3121.1093571660267`<br>\n",
    "`The list of digits is  [3, 1, 2, 1]` <br>\n",
    "`The least common multiple is 6`"
   ]
  },
  {
   "cell_type": "code",
   "execution_count": 9,
   "metadata": {
    "colab": {
     "base_uri": "https://localhost:8080/"
    },
    "id": "gm0k-xWbJfGT",
    "outputId": "b96fe12c-be1e-4433-89ae-e35225efeda7"
   },
   "outputs": [
    {
     "name": "stdout",
     "output_type": "stream",
     "text": [
      "The least common multiple is 6\n"
     ]
    }
   ],
   "source": [
    "import numpy as np\n",
    "\n",
    "print('The least common multiple is', np.lcm.reduce(digit_list))\n",
    "\n",
    "# x = float(input(\"Enter Real Number\"))\n",
    "# x_sum = 0\n",
    "# number_list = []\n",
    "# if x < 5:\n",
    "#     x_sum = round((x**2/abs(x)+2)**2)\n",
    "# x_sum = str(x_sum)\n",
    "# for i in x_sum:\n",
    "#     number_list.append(i)\n",
    "# LCM = np.lcm(number_list)\n",
    "# if x == 5:\n",
    "#     x_sum = round(x**2/abs(x)+2)\n",
    "# x_sum = str(x_sum)\n",
    "# for i in x_sum:\n",
    "#     number_list.append(i)\n",
    "# LCM = np.lcm(number_list)\n",
    "# if x > 5:\n",
    "#     x_sum = round((x**2/abs(x)+2)**1/2)\n",
    "# x_sum = str(x_sum)\n",
    "# for i in x_sum:\n",
    "#     number_list.append(i)\n",
    "# LCM = np.lcm(number_list)\n",
    "# print(\"The value of x is:\", x_sum)\n",
    "# print(\"The list of digits is:\", number_list)\n",
    "# print(\"The least common multiple is:\" LCM)"
   ]
  },
  {
   "cell_type": "markdown",
   "metadata": {
    "id": "WQP1V7zOJfGT"
   },
   "source": [
    "**f)**  **[10 pts]** Find and print the binary rpresentation of the numbers in the list generated in Q1.b.  \n",
    "\n",
    "For example, if the user enters `x = -57.8`, then the output should be: <br>\n",
    "`The value of f(x) is  3121.1093571660267`<br>\n",
    "`The list of digits is  [3, 1, 2, 1]` <br>\n",
    "`The binary representation is ['11', '1', '10', '1']` "
   ]
  },
  {
   "cell_type": "code",
   "execution_count": 10,
   "metadata": {
    "colab": {
     "base_uri": "https://localhost:8080/"
    },
    "id": "2GqP_jsyJfGU",
    "outputId": "0848745a-a0e7-4d51-e09a-c94959608cad"
   },
   "outputs": [
    {
     "name": "stdout",
     "output_type": "stream",
     "text": [
      "The binary representation is ['11', '1', '10', '1']\n"
     ]
    }
   ],
   "source": [
    "print('The binary representation is', ['{0:b}'.format(digit) for digit in digit_list ])\n",
    "\n",
    "# x = float(input(\"Enter Real Number\"))\n",
    "# x_sum = 0\n",
    "# number_list = []\n",
    "# binary_list = []\n",
    "# def decimalToBinary(n): \n",
    "#     return bin(n).replace(\"0b\", \"\") \n",
    "# if x < 5:\n",
    "#     x_sum = round((x**2/abs(x)+2)**2)\n",
    "# x_sum = str(x_sum)\n",
    "# for i in x_sum:\n",
    "#     number_list.append(i)\n",
    "# x_sum = int(x_sum)\n",
    "# for i in number_list:\n",
    "#     binary_list.append(decimalToBinary(i))\n",
    "    \n",
    "# if x == 5:\n",
    "#     x_sum = round(x**2/abs(x)+2)\n",
    "# x_sum = str(x_sum)\n",
    "# for i in x_sum:\n",
    "#     number_list.append(i)\n",
    "# for i in number_list:\n",
    "#     binary_list.append(decimalToBinary(i))\n",
    "    \n",
    "# if x > 5:\n",
    "#     x_sum = round((x**2/abs(x)+2)**1/2)\n",
    "# x_sum = str(x_sum)\n",
    "# for i in x_sum:\n",
    "#     number_list.append(i)\n",
    "# for i in number_list:\n",
    "#     binary_list.append(decimalToBinary(i))\n",
    "# print(\"The value of x is:\", x_sum)\n",
    "# print(\"The list of digits is:\", number_list)\n",
    "# print(\"The binary representation is:\", binary_list)"
   ]
  },
  {
   "cell_type": "markdown",
   "metadata": {
    "id": "pHcWCZ8mJfGU"
   },
   "source": [
    "*****"
   ]
  },
  {
   "cell_type": "markdown",
   "metadata": {
    "id": "O3jPbo4vAvPc"
   },
   "source": [
    "### Question 2  **[40 pts]**:\n",
    "\n",
    "Write a program that accepts the coefficients of the folllowing two lines as inputs\n",
    "\n",
    "Line1: $a_1x+b_1y + c_1 = 0$\n",
    "\n",
    "Line2: $a_2x+b_2y + c_2 = 0$\n",
    "\n",
    "Then checks whether the two lines are parallel, intersecting or overlapping according to the conditions listed below."
   ]
  },
  {
   "cell_type": "markdown",
   "metadata": {
    "id": "h_3gNcgeJfGU"
   },
   "source": [
    "**a)**  **[10 pts]** Intersecting lines: If $\\frac{a_1}{a_2} \\ne \\frac{b_1}{b_2}$"
   ]
  },
  {
   "cell_type": "code",
   "execution_count": 11,
   "metadata": {
    "id": "L1uEFS0GAvPg"
   },
   "outputs": [
    {
     "name": "stdin",
     "output_type": "stream",
     "text": [
      "Enter a1:  2\n",
      "Enter b1:  3\n",
      "Enter c1:  4\n",
      "Enter a2:  2\n",
      "Enter b2:  3\n",
      "Enter c2:  4\n"
     ]
    },
    {
     "name": "stdout",
     "output_type": "stream",
     "text": [
      "\n",
      " False\n"
     ]
    }
   ],
   "source": [
    "a1 = int(input('Enter a1: '))\n",
    "b1 = int(input('Enter b1: '))\n",
    "c1 = int(input('Enter c1: '))\n",
    "\n",
    "a2 = int(input('Enter a2: '))\n",
    "b2 = int(input('Enter b2: '))\n",
    "c2 = int(input('Enter c2: '))\n",
    "\n",
    "print('\\n', True if a1/a2 != b1/b2 else False)"
   ]
  },
  {
   "cell_type": "markdown",
   "metadata": {
    "id": "b5J7kRLZAvPe"
   },
   "source": [
    "**b)**   **[10 pts]** Parallel lines: If the lines are not intersecting and $\\frac{a_1}{a_2} = \\frac{b_1}{b_2} \\ne \\frac{c_1}{c_2}$"
   ]
  },
  {
   "cell_type": "code",
   "execution_count": null,
   "metadata": {
    "id": "bHHNxP0IAvPe"
   },
   "outputs": [],
   "source": [
    "print('\\n', True if a1/a2 == b1/b2 != c1/c2 else False)"
   ]
  },
  {
   "cell_type": "markdown",
   "metadata": {
    "id": "6q5tUb98JfGV"
   },
   "source": [
    "**c)**   **[10 pts]** Overlapping lines: If the lines are not intersecting and $\\frac{a_1}{a_2} = \\frac{b_1}{b_2} = \\frac{c_1}{c_2}$"
   ]
  },
  {
   "cell_type": "code",
   "execution_count": null,
   "metadata": {
    "id": "PvQTbdc8AvPi"
   },
   "outputs": [],
   "source": [
    "print('\\n', True if a1/a2 == b1/b2 == c1/c2 else False)"
   ]
  },
  {
   "cell_type": "markdown",
   "metadata": {
    "id": "l9l0sjUoAvPk"
   },
   "source": [
    "**d)**   **[10 pts]** Plot the two lines graphically using the `matplotlib` and `numpy` libraries or any other suitable libraries. "
   ]
  },
  {
   "cell_type": "code",
   "execution_count": null,
   "metadata": {
    "id": "cDqwtAjhAvPk"
   },
   "outputs": [],
   "source": []
  },
  {
   "cell_type": "markdown",
   "metadata": {
    "id": "1pXjKc23jXTj"
   },
   "source": [
    "*****"
   ]
  },
  {
   "cell_type": "markdown",
   "metadata": {
    "id": "liJoAmA1LGOz"
   },
   "source": [
    "### Question 3  **[30 pts]**:\n",
    "Write a code for a Number Guessing Game. \n",
    "The code assigns a random integer number from a given interval to a varible, then asks the user to make a guess to find that number. \n",
    "\n",
    "Do not forget to check the validity of the selected number:\n",
    "- Is it an integer?\n",
    "- Is it an integer that lies in the given range?"
   ]
  },
  {
   "cell_type": "markdown",
   "metadata": {
    "id": "13g6-UkaB2bW"
   },
   "source": [
    "**a)**  **[10 pts]** Follow these steps to implement a simple version of the game:\n",
    "- The code assigns a random integer number between 0 and 100 to a variable.\n",
    "- The code gives the user only one chance to guess that number. \n",
    "- The output of the code should be either 'correct' or 'wrong'.\n",
    "\n",
    "Hint:  Use the `random` module to generate a pseudo-random number."
   ]
  },
  {
   "cell_type": "code",
   "execution_count": null,
   "metadata": {
    "id": "pgjCsUosSprl"
   },
   "outputs": [],
   "source": [
    "import random\n",
    "\n",
    "random_int = random.randint(0, 100)\n",
    "\n",
    "def get_guess():\n",
    "    guess = input('Enter an integer from 0 to 100: ')\n",
    "    if guess.isdigit() and int(guess) >= 0 and int(guess) <= 100:\n",
    "        return int(guess)\n",
    "    else:\n",
    "        return get_guess() # Will return None if above conditions aren't met\n",
    "\n",
    "guess = get_guess()\n",
    "    \n",
    "if guess == random_int:\n",
    "    print('\\nCorrect')\n",
    "else:\n",
    "    print('\\nWrong')"
   ]
  },
  {
   "cell_type": "markdown",
   "metadata": {
    "id": "QLa2BEzGBzAc"
   },
   "source": [
    "**b)**  **[10 pts]** Since it is difficult to guess a number in one try, let us give chances and clues. \n",
    "\n",
    "With unlimited trials and a random integer number in the inclusive range from 0 to 100, the code will compare the first guess with the random number and tell the user if the random number is lower or higher than the user's guess, and so on untill the user correctly guesses the random integer number. "
   ]
  },
  {
   "cell_type": "code",
   "execution_count": null,
   "metadata": {
    "id": "DhhjKEO9_TG7"
   },
   "outputs": [],
   "source": [
    "while True:\n",
    "    if guess > random_int:\n",
    "        print('Too high')\n",
    "        guess = get_guess()\n",
    "    elif guess < random_int:\n",
    "        print('Too low')\n",
    "        guess = get_guess()\n",
    "    else:\n",
    "        print('\\nCORRECT')\n",
    "        break # Ends the infinite loop once correct value is found"
   ]
  },
  {
   "cell_type": "markdown",
   "metadata": {
    "id": "bvWLIEBTFNE1"
   },
   "source": [
    "**c)**  **[10 pts]** Let us develop a better version of the program by limiting the number of chances for guessing the random number based on the interval's boundaries.  \n",
    "\n",
    " \n",
    "Start with asking the user to enter two numbers, being the lower and upper bounds of the interval from which the random number will be selected. After the application chooses the random number based on the entered boundaries, find and print the number of attempts given to the user by computing the square root of the difference between the lower and upper bounds.\n",
    "\n",
    "Notably, the lower-bound value must be at least 1, and the upper-bound value must be higher than the lower-bound one.\n"
   ]
  },
  {
   "cell_type": "code",
   "execution_count": 12,
   "metadata": {
    "colab": {
     "base_uri": "https://localhost:8080/"
    },
    "id": "MexIqFs8EH63",
    "outputId": "e1a7b697-b124-4318-a986-8ec1138e0bf5"
   },
   "outputs": [
    {
     "name": "stdin",
     "output_type": "stream",
     "text": [
      "\n",
      "Enter an integer for the lower bound:  20\n",
      "\n",
      "Enter an integer for the upper bound:  26\n",
      "\n",
      "Enter a guess:  23\n"
     ]
    },
    {
     "name": "stdout",
     "output_type": "stream",
     "text": [
      "\n",
      "You get 2 attempt\n",
      "\n",
      "Too high\n"
     ]
    },
    {
     "name": "stdin",
     "output_type": "stream",
     "text": [
      "\n",
      "Enter a guess:  22\n"
     ]
    },
    {
     "name": "stdout",
     "output_type": "stream",
     "text": [
      "\n",
      "NO MORE GUESSES REMAINING\n"
     ]
    }
   ],
   "source": [
    "import random\n",
    "\n",
    "def get_guess():\n",
    "    guess = input('\\nEnter a guess: ')\n",
    "    if guess.isdigit() and int(guess) >= 0 and int(guess) <= 100:\n",
    "        return int(guess)\n",
    "    else:\n",
    "        return get_guess() # Will return None if above conditions aren't met\n",
    "\n",
    "def get_bounds(type):\n",
    "    boundary = input('\\nEnter an integer for the {} bound: '.format(type))\n",
    "    if boundary.isdigit() and int(boundary) > 0:\n",
    "        return int(boundary)\n",
    "    else:\n",
    "        return get_bounds() # Will return None if above conditions aren't met\n",
    "\n",
    "lower_bound = get_bounds(type='lower')\n",
    "upper_bound = get_bounds(type='upper')\n",
    "\n",
    "guess = get_guess()\n",
    "\n",
    "while upper_bound < lower_bound:\n",
    "    upper_bound = get_bounds(type='upper')\n",
    "\n",
    "random_int = random.randint(lower_bound, upper_bound)\n",
    "\n",
    "number_of_attempts = round(int((upper_bound - lower_bound)**(1/2)))\n",
    "\n",
    "print('\\nYou get {} attempt{}'.format(number_of_attempts, 's' if number_of_attempts == 1 else ''))\n",
    "\n",
    "counter = 0\n",
    "\n",
    "while True:\n",
    "    counter+=1\n",
    "    \n",
    "    if counter == number_of_attempts:\n",
    "        print('\\nNO MORE GUESSES REMAINING')\n",
    "        break\n",
    "    elif guess > random_int:\n",
    "        print('\\nToo high')\n",
    "        guess = get_guess()\n",
    "    elif guess < random_int:\n",
    "        print('\\nToo low')\n",
    "        guess = get_guess()\n",
    "    else:\n",
    "        print('\\nCORRECT')\n",
    "        break # Ends the infinite loop once correct value is found"
   ]
  },
  {
   "cell_type": "markdown",
   "metadata": {
    "id": "E7H-NKYDjaiE"
   },
   "source": [
    "*****"
   ]
  },
  {
   "cell_type": "markdown",
   "metadata": {
    "id": "2XrFEyymLKnR"
   },
   "source": [
    "### Question 4  **[30 pts]**:\n",
    "\n",
    "Write a code for The Hangman Game. In this game, the user only enters the number of letters existing in that word, and the computer tries to guess them based on a fixed number of attempts.  The game ends if the computer correctly guessed all the letters in order or used all of the given attempts."
   ]
  },
  {
   "cell_type": "code",
   "execution_count": null,
   "metadata": {
    "id": "Ocvn4QXHDgId"
   },
   "outputs": [],
   "source": [
    "# THEIR INSTRUCTIONS ARE RETARDED\n",
    "\n",
    "from string import ascii_lowercase # String containing all lower-case letters\n",
    "\n",
    "word = input('\\nPlease enter a word: ').lower() # Ensure whole word is lower-case\n",
    "\n",
    "guesses = 0\n",
    "\n",
    "while guesses < len(word):\n",
    "    guess = random.choice(list(ascii_lowercase))\n",
    "    if guess == word[guesses]: # Guess must match index of the word provided\n",
    "        print('\\n{}'.format(guess))\n",
    "    else:\n",
    "        print('\\nWrong guess')\n",
    "    guesses+=1"
   ]
  },
  {
   "cell_type": "markdown",
   "metadata": {
    "id": "7vRukEN2JfGX"
   },
   "source": [
    "#### This is the end of assignment 1"
   ]
  }
 ],
 "metadata": {
  "colab": {
   "collapsed_sections": [],
   "name": "CIND830F20 Assignment 1 QA_shared.ipynb",
   "provenance": []
  },
  "kernelspec": {
   "display_name": "Python 3",
   "language": "python",
   "name": "python3"
  },
  "language_info": {
   "codemirror_mode": {
    "name": "ipython",
    "version": 3
   },
   "file_extension": ".py",
   "mimetype": "text/x-python",
   "name": "python",
   "nbconvert_exporter": "python",
   "pygments_lexer": "ipython3",
   "version": "3.7.6"
  },
  "nteract": {
   "version": "0.27.0"
  },
  "varInspector": {
   "cols": {
    "lenName": 16,
    "lenType": 16,
    "lenVar": 40
   },
   "kernels_config": {
    "python": {
     "delete_cmd_postfix": "",
     "delete_cmd_prefix": "del ",
     "library": "var_list.py",
     "varRefreshCmd": "print(var_dic_list())"
    },
    "r": {
     "delete_cmd_postfix": ") ",
     "delete_cmd_prefix": "rm(",
     "library": "var_list.r",
     "varRefreshCmd": "cat(var_dic_list()) "
    }
   },
   "types_to_exclude": [
    "module",
    "function",
    "builtin_function_or_method",
    "instance",
    "_Feature"
   ],
   "window_display": false
  }
 },
 "nbformat": 4,
 "nbformat_minor": 4
}
